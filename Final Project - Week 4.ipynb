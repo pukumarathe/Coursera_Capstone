{
 "cells": [
  {
   "cell_type": "markdown",
   "metadata": {},
   "source": [
    "# Coursera Capstone Final Project: Week 4"
   ]
  },
  {
   "cell_type": "markdown",
   "metadata": {},
   "source": [
    "## Introduction\n",
    "\n",
    "New York City (NYC) is largest city in the United States of America. According to the Wikipedia, the estimated (2019) population of NYC is 8.3 million [1], of which 3.1 million are immigrants [2]. It is one of the most ethnically diverse metropolises. A published article claims that there are about 710,000 Indians residing in NYC [3], which is about 9% of the total NYC population.\n",
    "\n",
    "Among many other things, Indians are known for their love towards spicy food. In this final project, the best locations for eating as well as opening an Indian restaurant is explored throughout NYC."
   ]
  },
  {
   "cell_type": "markdown",
   "metadata": {},
   "source": [
    "## Specific Questions\n",
    "1.\tHow many Indian restaurants are there in NYC and how are distributed along different neighborhoods/boroughs?\n",
    "\n",
    "2.\tWhat is the best location for Indian food in NYC?\n",
    "\n",
    "3.\tIn which neighborhood, potential restaurant owner should invest to have best chance of success?"
   ]
  },
  {
   "cell_type": "markdown",
   "metadata": {},
   "source": [
    "## Data\n",
    "\n",
    "In order to answer above questions, the following data is needed:\n",
    "1.\tGeospatial information of NYC, including names of neighborhoods, boroughs as well as their latitude, longitude\n",
    "\n",
    "2.\tDetails such as, name, ratings, of Indian restaurants in NYC.\n",
    "\n",
    "Above data either be scrapped from internet and/or requested from Foresquare API using python."
   ]
  },
  {
   "cell_type": "markdown",
   "metadata": {},
   "source": [
    "## Methodology\n",
    "\n",
    "1.\tNYC geospatial data will be collected from https://cocl.us/new_york_dataset.\n",
    "\n",
    "2.\tData of Indian restaurants will be requested by using Foresquare API.\n",
    "\n",
    "3.\tCollected data will be processed and exploratory analysis will be performed on the data.\n",
    "\n",
    "4.\tCleaned data will be visualised using different python libraries."
   ]
  },
  {
   "cell_type": "markdown",
   "metadata": {},
   "source": [
    "## References\n",
    "\n",
    "[1] https://en.wikipedia.org/wiki/New_York_City\n",
    "\n",
    "[2] https://www1.nyc.gov/assets/immigrants/downloads/pdf/moia_annual_report_2018_final.pdf\n",
    "\n",
    "[3] https://www.novacredit.com/resources/desis-in-new-york-a-guide-for-indian-newcomers-in-new-york-city/#:~:text=New%20York%20City%20houses%20one,Indian%20residents%20as%20of%202017."
   ]
  }
 ],
 "metadata": {
  "kernelspec": {
   "display_name": "Python 3",
   "language": "python",
   "name": "python3"
  },
  "language_info": {
   "codemirror_mode": {
    "name": "ipython",
    "version": 3
   },
   "file_extension": ".py",
   "mimetype": "text/x-python",
   "name": "python",
   "nbconvert_exporter": "python",
   "pygments_lexer": "ipython3",
   "version": "3.8.5"
  }
 },
 "nbformat": 4,
 "nbformat_minor": 4
}
